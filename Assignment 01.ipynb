{
 "cells": [
  {
   "cell_type": "markdown",
   "metadata": {},
   "source": [
    "<img src=\"http://cfs22.simplicdn.net/ice9/new_logo.svgz \"/>\n",
    "\n",
    "# Assignment 01: Evaluate the GDP Dataset\n",
    "\n",
    "*The comments/sections provided are your cues to perform the assignment. You don't need to limit yourself to the number of rows/cells provided. You can add additional rows in each section to add more lines of code.*\n",
    "\n",
    "*If at any point in time you need help on solving this assignment, view our demo video to understand the different steps of the code.*\n",
    "\n",
    "**Happy coding!**\n",
    "\n",
    "* * *"
   ]
  },
  {
   "cell_type": "markdown",
   "metadata": {},
   "source": [
    "#### 1: View and add the dataset"
   ]
  },
  {
   "cell_type": "code",
   "execution_count": 1,
   "metadata": {
    "collapsed": true
   },
   "outputs": [],
   "source": [
    "#Import required library\n",
    "import numpy as np \n",
    "import pandas as pd "
   ]
  },
  {
   "cell_type": "code",
   "execution_count": 34,
   "metadata": {
    "collapsed": true
   },
   "outputs": [
    {
     "data": {
      "text/html": [
       "<div>\n",
       "<style scoped>\n",
       "    .dataframe tbody tr th:only-of-type {\n",
       "        vertical-align: middle;\n",
       "    }\n",
       "\n",
       "    .dataframe tbody tr th {\n",
       "        vertical-align: top;\n",
       "    }\n",
       "\n",
       "    .dataframe thead th {\n",
       "        text-align: right;\n",
       "    }\n",
       "</style>\n",
       "<table border=\"1\" class=\"dataframe\">\n",
       "  <thead>\n",
       "    <tr style=\"text-align: right;\">\n",
       "      <th></th>\n",
       "      <th></th>\n",
       "      <th></th>\n",
       "      <th></th>\n",
       "      <th></th>\n",
       "      <th></th>\n",
       "      <th></th>\n",
       "      <th></th>\n",
       "      <th></th>\n",
       "      <th></th>\n",
       "      <th></th>\n",
       "      <th></th>\n",
       "      <th></th>\n",
       "      <th></th>\n",
       "      <th></th>\n",
       "      <th></th>\n",
       "      <th></th>\n",
       "      <th></th>\n",
       "      <th></th>\n",
       "      <th></th>\n",
       "      <th></th>\n",
       "      <th></th>\n",
       "      <th></th>\n",
       "      <th></th>\n",
       "      <th></th>\n",
       "      <th></th>\n",
       "      <th></th>\n",
       "      <th></th>\n",
       "      <th></th>\n",
       "      <th></th>\n",
       "      <th></th>\n",
       "      <th></th>\n",
       "      <th></th>\n",
       "      <th></th>\n",
       "      <th></th>\n",
       "      <th></th>\n",
       "      <th></th>\n",
       "      <th></th>\n",
       "      <th></th>\n",
       "      <th></th>\n",
       "      <th></th>\n",
       "      <th></th>\n",
       "      <th></th>\n",
       "      <th></th>\n",
       "      <th></th>\n",
       "      <th></th>\n",
       "      <th></th>\n",
       "      <th></th>\n",
       "      <th></th>\n",
       "      <th></th>\n",
       "      <th></th>\n",
       "      <th></th>\n",
       "      <th></th>\n",
       "      <th></th>\n",
       "      <th></th>\n",
       "      <th></th>\n",
       "      <th></th>\n",
       "      <th></th>\n",
       "      <th></th>\n",
       "      <th></th>\n",
       "      <th></th>\n",
       "      <th></th>\n",
       "      <th>List of countries:</th>\n",
       "    </tr>\n",
       "  </thead>\n",
       "  <tbody>\n",
       "    <tr>\n",
       "      <th>'Algeria'</th>\n",
       "      <th>'Angola'</th>\n",
       "      <th>'Argentina'</th>\n",
       "      <th>'Australia'</th>\n",
       "      <th>'Austria'</th>\n",
       "      <th>'Bahamas'</th>\n",
       "      <th>'Bangladesh'</th>\n",
       "      <th>'Belarus'</th>\n",
       "      <th>'Belgium'</th>\n",
       "      <th>'Bhutan'</th>\n",
       "      <th>'Brazil'</th>\n",
       "      <th>'Bulgaria'</th>\n",
       "      <th>'Cambodia'</th>\n",
       "      <th>'Cameroon'</th>\n",
       "      <th>'Chile'</th>\n",
       "      <th>'China'</th>\n",
       "      <th>'Colombia'</th>\n",
       "      <th>'Cyprus'</th>\n",
       "      <th>'Denmark'</th>\n",
       "      <th>'El Salvador'</th>\n",
       "      <th>'Estonia'</th>\n",
       "      <th>'Ethiopia'</th>\n",
       "      <th>'Fiji'</th>\n",
       "      <th>'Finland'</th>\n",
       "      <th>'France'</th>\n",
       "      <th>'Georgia'</th>\n",
       "      <th>'Ghana'</th>\n",
       "      <th>'Grenada'</th>\n",
       "      <th>'Guinea'</th>\n",
       "      <th>'Haiti'</th>\n",
       "      <th>'Honduras'</th>\n",
       "      <th>'Hungary'</th>\n",
       "      <th>'India'</th>\n",
       "      <th>'Indonesia'</th>\n",
       "      <th>'Ireland'</th>\n",
       "      <th>'Italy'</th>\n",
       "      <th>'Japan'</th>\n",
       "      <th>'Kenya'</th>\n",
       "      <th>'South Korea'</th>\n",
       "      <th>'Liberia'</th>\n",
       "      <th>'Malaysia'</th>\n",
       "      <th>'Mexico'</th>\n",
       "      <th>'Morocco'</th>\n",
       "      <th>'Nepal'</th>\n",
       "      <th>'New Zealand'</th>\n",
       "      <th>'Norway'</th>\n",
       "      <th>'Pakistan'</th>\n",
       "      <th>'Peru'</th>\n",
       "      <th>'Qatar'</th>\n",
       "      <th>'Russia'</th>\n",
       "      <th>'Singapore'</th>\n",
       "      <th>'South Africa'</th>\n",
       "      <th>'Spain'</th>\n",
       "      <th>'Sweden'</th>\n",
       "      <th>'Switzerland'</th>\n",
       "      <th>'Thailand'</th>\n",
       "      <th>'United Arab Emirates'</th>\n",
       "      <th>'United Kingdom'</th>\n",
       "      <th>'United States'</th>\n",
       "      <th>'Uruguay'</th>\n",
       "      <th>'Venezuela'</th>\n",
       "      <th>'Vietnam'</th>\n",
       "      <td>'Zimbabwe'</td>\n",
       "    </tr>\n",
       "    <tr>\n",
       "      <th>GDP values for each country:</th>\n",
       "      <th>NaN</th>\n",
       "      <th>NaN</th>\n",
       "      <th>NaN</th>\n",
       "      <th>NaN</th>\n",
       "      <th>NaN</th>\n",
       "      <th>NaN</th>\n",
       "      <th>NaN</th>\n",
       "      <th>NaN</th>\n",
       "      <th>NaN</th>\n",
       "      <th>NaN</th>\n",
       "      <th>NaN</th>\n",
       "      <th>NaN</th>\n",
       "      <th>NaN</th>\n",
       "      <th>NaN</th>\n",
       "      <th>NaN</th>\n",
       "      <th>NaN</th>\n",
       "      <th>NaN</th>\n",
       "      <th>NaN</th>\n",
       "      <th>NaN</th>\n",
       "      <th>NaN</th>\n",
       "      <th>NaN</th>\n",
       "      <th>NaN</th>\n",
       "      <th>NaN</th>\n",
       "      <th>NaN</th>\n",
       "      <th>NaN</th>\n",
       "      <th>NaN</th>\n",
       "      <th>NaN</th>\n",
       "      <th>NaN</th>\n",
       "      <th>NaN</th>\n",
       "      <th>NaN</th>\n",
       "      <th>NaN</th>\n",
       "      <th>NaN</th>\n",
       "      <th>NaN</th>\n",
       "      <th>NaN</th>\n",
       "      <th>NaN</th>\n",
       "      <th>NaN</th>\n",
       "      <th>NaN</th>\n",
       "      <th>NaN</th>\n",
       "      <th>NaN</th>\n",
       "      <th>NaN</th>\n",
       "      <th>NaN</th>\n",
       "      <th>NaN</th>\n",
       "      <th>NaN</th>\n",
       "      <th>NaN</th>\n",
       "      <th>NaN</th>\n",
       "      <th>NaN</th>\n",
       "      <th>NaN</th>\n",
       "      <th>NaN</th>\n",
       "      <th>NaN</th>\n",
       "      <th>NaN</th>\n",
       "      <th>NaN</th>\n",
       "      <th>NaN</th>\n",
       "      <th>NaN</th>\n",
       "      <th>NaN</th>\n",
       "      <th>NaN</th>\n",
       "      <th>NaN</th>\n",
       "      <th>NaN</th>\n",
       "      <th>NaN</th>\n",
       "      <th>NaN</th>\n",
       "      <th>NaN</th>\n",
       "      <th>NaN</th>\n",
       "      <td>NaN</td>\n",
       "    </tr>\n",
       "    <tr>\n",
       "      <th>2255.225482</th>\n",
       "      <th>629.9553062</th>\n",
       "      <th>11601.63022</th>\n",
       "      <th>25306.82494</th>\n",
       "      <th>27266.40335</th>\n",
       "      <th>19466.99052</th>\n",
       "      <th>588.3691778</th>\n",
       "      <th>2890.345675</th>\n",
       "      <th>24733.62696</th>\n",
       "      <th>1445.760002</th>\n",
       "      <th>4803.398244</th>\n",
       "      <th>2618.876037</th>\n",
       "      <th>590.4521124</th>\n",
       "      <th>665.7982328</th>\n",
       "      <th>7122.938458</th>\n",
       "      <th>2639.54156</th>\n",
       "      <th>3362.4656</th>\n",
       "      <th>15378.16704</th>\n",
       "      <th>30860.12808</th>\n",
       "      <th>2579.115607</th>\n",
       "      <th>6525.541272</th>\n",
       "      <th>229.6769525</th>\n",
       "      <th>2242.689259</th>\n",
       "      <th>27570.4852</th>\n",
       "      <th>23016.84778</th>\n",
       "      <th>1334.646773</th>\n",
       "      <th>402.6953275</th>\n",
       "      <th>6047.200797</th>\n",
       "      <th>394.1156638</th>\n",
       "      <th>385.5793827</th>\n",
       "      <th>1414.072488</th>\n",
       "      <th>5745.981529</th>\n",
       "      <th>837.7464011</th>\n",
       "      <th>1206.991065</th>\n",
       "      <th>27715.52837</th>\n",
       "      <th>18937.24998</th>\n",
       "      <th>39578.07441</th>\n",
       "      <th>478.2194906</th>\n",
       "      <th>16684.21278</th>\n",
       "      <th>279.2204061</th>\n",
       "      <th>5345.213415</th>\n",
       "      <th>6288.25324</th>\n",
       "      <th>1908.304416</th>\n",
       "      <th>274.8728621</th>\n",
       "      <th>14646.42094</th>\n",
       "      <th>40034.85063</th>\n",
       "      <th>672.1547506</th>\n",
       "      <th>3359.517402</th>\n",
       "      <th>36152.66676</th>\n",
       "      <th>3054.727742</th>\n",
       "      <th>33529.83052</th>\n",
       "      <th>3825.093781</th>\n",
       "      <th>15428.32098</th>\n",
       "      <th>33630.24604</th>\n",
       "      <th>39170.41371</th>\n",
       "      <th>2699.123242</th>\n",
       "      <th>21058.43643</th>\n",
       "      <th>28272.40661</th>\n",
       "      <th>37691.02733</th>\n",
       "      <th>9581.05659</th>\n",
       "      <th>5671.912202</th>\n",
       "      <th>757.4009286</th>\n",
       "      <td>347.7456605</td>\n",
       "    </tr>\n",
       "  </tbody>\n",
       "</table>\n",
       "</div>"
      ],
      "text/plain": [
       "                                                                                                                                                                                                                                                                                                                                                                                                                                                                                                                                                                                                                                                                                                                                                                                                                      List of countries:\n",
       "'Algeria'                    'Angola'    'Argentina' 'Australia' 'Austria'   'Bahamas'   'Bangladesh' 'Belarus'   'Belgium'   'Bhutan'    'Brazil'    'Bulgaria'  'Cambodia'  'Cameroon'  'Chile'     'China'    'Colombia' 'Cyprus'    'Denmark'   'El Salvador' 'Estonia'   'Ethiopia'  'Fiji'      'Finland'  'France'    'Georgia'   'Ghana'     'Grenada'   'Guinea'    'Haiti'     'Honduras'  'Hungary'   'India'     'Indonesia' 'Ireland'   'Italy'     'Japan'     'Kenya'      'South Korea' 'Liberia'   'Malaysia'  'Mexico'    'Morocco'  'Nepal'     'New Zealand' 'Norway'    'Pakistan'   'Peru'     'Qatar'     'Russia'    'Singapore' 'South Africa' 'Spain'     'Sweden'    'Switzerland' 'Thailand'   'United Arab Emirates' 'United Kingdom' 'United States' 'Uruguay'  'Venezuela' 'Vietnam'           'Zimbabwe'\n",
       "GDP values for each country: NaN         NaN         NaN         NaN         NaN         NaN          NaN         NaN         NaN         NaN         NaN         NaN         NaN         NaN         NaN        NaN        NaN         NaN         NaN           NaN         NaN         NaN         NaN        NaN         NaN         NaN         NaN         NaN         NaN         NaN         NaN         NaN         NaN         NaN         NaN         NaN         NaN         NaN            NaN         NaN         NaN        NaN         NaN         NaN           NaN         NaN         NaN         NaN         NaN         NaN         NaN            NaN         NaN         NaN           NaN         NaN                     NaN              NaN             NaN        NaN         NaN                        NaN\n",
       "2255.225482                  629.9553062 11601.63022 25306.82494 27266.40335 19466.99052 588.3691778  2890.345675 24733.62696 1445.760002 4803.398244 2618.876037 590.4521124 665.7982328 7122.938458 2639.54156 3362.4656  15378.16704 30860.12808 2579.115607   6525.541272 229.6769525 2242.689259 27570.4852 23016.84778 1334.646773 402.6953275 6047.200797 394.1156638 385.5793827 1414.072488 5745.981529 837.7464011 1206.991065 27715.52837 18937.24998 39578.07441 478.2194906 16684.21278    279.2204061 5345.213415 6288.25324 1908.304416 274.8728621 14646.42094   40034.85063 672.1547506 3359.517402 36152.66676 3054.727742 33529.83052 3825.093781    15428.32098 33630.24604 39170.41371   2699.123242 21058.43643             28272.40661      37691.02733     9581.05659 5671.912202 757.4009286        347.7456605"
      ]
     },
     "execution_count": 34,
     "metadata": {},
     "output_type": "execute_result"
    }
   ],
   "source": [
    "#Manually add the dataset\n",
    "data = pd.read_csv(r'C:\\Users\\Mandar\\Downloads\\Lesson 5\\GDP dataset\\Countries with GDP.txt')\n",
    "data.head()"
   ]
  },
  {
   "cell_type": "markdown",
   "metadata": {
    "collapsed": true
   },
   "source": [
    "#### 2: Find and print the name of the country with the highest GDP"
   ]
  },
  {
   "cell_type": "code",
   "execution_count": 35,
   "metadata": {},
   "outputs": [],
   "source": [
    "#Simplify the process \n",
    "Countries = np.array(['Algeria','Angola','Argentina','Australia','Austria','Bahamas','Bangladesh','Belarus','Belgium','Bhutan','Brazil','Bulgaria','Cambodia','Cameroon','Chile','China','Colombia','Cyprus','Denmark','El Salvador','Estonia','Ethiopia','Fiji','Finland','France','Georgia','Ghana','Grenada','Guinea','Haiti','Honduras','Hungary','India','Indonesia','Ireland','Italy','Japan','Kenya', 'South Korea','Liberia','Malaysia','Mexico', 'Morocco','Nepal','New Zealand','Norway','Pakistan', 'Peru','Qatar','Russia','Singapore','South Africa','Spain','Sweden','Switzerland','Thailand', 'United Arab Emirates','United Kingdom','United States','Uruguay','Venezuela','Vietnam','Zimbabwe'\n",
    "])\n",
    "\n",
    "gdp_per_capita = np.array([2255.225482,629.9553062,11601.63022,25306.82494,27266.40335,19466.99052,588.3691778,2890.345675,24733.62696,1445.760002,4803.398244,2618.876037,590.4521124,665.7982328,7122.938458,2639.54156,3362.4656,15378.16704,30860.12808,2579.115607,6525.541272,229.6769525,2242.689259,27570.4852,23016.84778,1334.646773,402.6953275,6047.200797,394.1156638,385.5793827,1414.072488,5745.981529,837.7464011,1206.991065,27715.52837,18937.24998,39578.07441,478.2194906,16684.21278,279.2204061,5345.213415,6288.25324,1908.304416,274.8728621,14646.42094,40034.85063,672.1547506,3359.517402,36152.66676,3054.727742,33529.83052,3825.093781,15428.32098,33630.24604,39170.41371,2699.123242,21058.43643,28272.40661,37691.02733,9581.05659,5671.912202,757.4009286,347.7456605])"
   ]
  },
  {
   "cell_type": "code",
   "execution_count": 37,
   "metadata": {
    "collapsed": false
   },
   "outputs": [
    {
     "name": "stdout",
     "output_type": "stream",
     "text": [
      "Norway\n"
     ]
    }
   ],
   "source": [
    "#Use the argmax() method to find the highest GDP\n",
    "\n",
    "max_gdp_per_capita = gdp_per_capita.argmax()\n"
   ]
  },
  {
   "cell_type": "code",
   "execution_count": 42,
   "metadata": {
    "collapsed": true
   },
   "outputs": [
    {
     "name": "stdout",
     "output_type": "stream",
     "text": [
      "Norway\n"
     ]
    }
   ],
   "source": [
    "#Print the name of the country\n",
    "Countries_with_max_gdp = Countries[max_gdp_per_capita]\n",
    "print(Countries_with_max_gdp)"
   ]
  },
  {
   "cell_type": "markdown",
   "metadata": {
    "collapsed": false
   },
   "source": [
    "#### 3: Find and print the name of the country with the lowest GDP"
   ]
  },
  {
   "cell_type": "code",
   "execution_count": 40,
   "metadata": {
    "collapsed": true
   },
   "outputs": [],
   "source": [
    "#Use the argmin() method to find the lowest \n",
    "min_gdp_per_capita = gdp_per_capita.argmin()"
   ]
  },
  {
   "cell_type": "code",
   "execution_count": 41,
   "metadata": {
    "collapsed": true
   },
   "outputs": [
    {
     "name": "stdout",
     "output_type": "stream",
     "text": [
      "Ethiopia\n"
     ]
    }
   ],
   "source": [
    "#Print the name of the country\n",
    "Countries_with_min_gdp = Countries[min_gdp_per_capita]\n",
    "print(Countries_with_min_gdp)"
   ]
  },
  {
   "cell_type": "markdown",
   "metadata": {
    "collapsed": false
   },
   "source": [
    "#### 4: Print out text ('evaluating country') and input value ('country name') iteratively"
   ]
  },
  {
   "cell_type": "code",
   "execution_count": 45,
   "metadata": {
    "collapsed": false
   },
   "outputs": [
    {
     "name": "stdout",
     "output_type": "stream",
     "text": [
      "evaluating Countries Algeria\n",
      "evaluating Countries Angola\n",
      "evaluating Countries Argentina\n",
      "evaluating Countries Australia\n",
      "evaluating Countries Austria\n",
      "evaluating Countries Bahamas\n",
      "evaluating Countries Bangladesh\n",
      "evaluating Countries Belarus\n",
      "evaluating Countries Belgium\n",
      "evaluating Countries Bhutan\n",
      "evaluating Countries Brazil\n",
      "evaluating Countries Bulgaria\n",
      "evaluating Countries Cambodia\n",
      "evaluating Countries Cameroon\n",
      "evaluating Countries Chile\n",
      "evaluating Countries China\n",
      "evaluating Countries Colombia\n",
      "evaluating Countries Cyprus\n",
      "evaluating Countries Denmark\n",
      "evaluating Countries El Salvador\n",
      "evaluating Countries Estonia\n",
      "evaluating Countries Ethiopia\n",
      "evaluating Countries Fiji\n",
      "evaluating Countries Finland\n",
      "evaluating Countries France\n",
      "evaluating Countries Georgia\n",
      "evaluating Countries Ghana\n",
      "evaluating Countries Grenada\n",
      "evaluating Countries Guinea\n",
      "evaluating Countries Haiti\n",
      "evaluating Countries Honduras\n",
      "evaluating Countries Hungary\n",
      "evaluating Countries India\n",
      "evaluating Countries Indonesia\n",
      "evaluating Countries Ireland\n",
      "evaluating Countries Italy\n",
      "evaluating Countries Japan\n",
      "evaluating Countries Kenya\n",
      "evaluating Countries South Korea\n",
      "evaluating Countries Liberia\n",
      "evaluating Countries Malaysia\n",
      "evaluating Countries Mexico\n",
      "evaluating Countries Morocco\n",
      "evaluating Countries Nepal\n",
      "evaluating Countries New Zealand\n",
      "evaluating Countries Norway\n",
      "evaluating Countries Pakistan\n",
      "evaluating Countries Peru\n",
      "evaluating Countries Qatar\n",
      "evaluating Countries Russia\n",
      "evaluating Countries Singapore\n",
      "evaluating Countries South Africa\n",
      "evaluating Countries Spain\n",
      "evaluating Countries Sweden\n",
      "evaluating Countries Switzerland\n",
      "evaluating Countries Thailand\n",
      "evaluating Countries United Arab Emirates\n",
      "evaluating Countries United Kingdom\n",
      "evaluating Countries United States\n",
      "evaluating Countries Uruguay\n",
      "evaluating Countries Venezuela\n",
      "evaluating Countries Vietnam\n",
      "evaluating Countries Zimbabwe\n"
     ]
    }
   ],
   "source": [
    "#Use a for loop to print the required output\n",
    "for i in Countries:\n",
    "    print('evaluating Countries {}' .format(i))"
   ]
  },
  {
   "cell_type": "markdown",
   "metadata": {},
   "source": [
    "#### 5: Print out the entire list of the countries with their GDPs"
   ]
  },
  {
   "cell_type": "code",
   "execution_count": 47,
   "metadata": {
    "collapsed": false
   },
   "outputs": [
    {
     "name": "stdout",
     "output_type": "stream",
     "text": [
      "Algeria with their gdp 2255.225482\n",
      "Angola with their gdp 629.9553062\n",
      "Argentina with their gdp 11601.63022\n",
      "Australia with their gdp 25306.82494\n",
      "Austria with their gdp 27266.40335\n",
      "Bahamas with their gdp 19466.99052\n",
      "Bangladesh with their gdp 588.3691778\n",
      "Belarus with their gdp 2890.345675\n",
      "Belgium with their gdp 24733.62696\n",
      "Bhutan with their gdp 1445.760002\n",
      "Brazil with their gdp 4803.398244\n",
      "Bulgaria with their gdp 2618.876037\n",
      "Cambodia with their gdp 590.4521124\n",
      "Cameroon with their gdp 665.7982328\n",
      "Chile with their gdp 7122.938458\n",
      "China with their gdp 2639.54156\n",
      "Colombia with their gdp 3362.4656\n",
      "Cyprus with their gdp 15378.16704\n",
      "Denmark with their gdp 30860.12808\n",
      "El Salvador with their gdp 2579.115607\n",
      "Estonia with their gdp 6525.541272\n",
      "Ethiopia with their gdp 229.6769525\n",
      "Fiji with their gdp 2242.689259\n",
      "Finland with their gdp 27570.4852\n",
      "France with their gdp 23016.84778\n",
      "Georgia with their gdp 1334.646773\n",
      "Ghana with their gdp 402.6953275\n",
      "Grenada with their gdp 6047.200797\n",
      "Guinea with their gdp 394.1156638\n",
      "Haiti with their gdp 385.5793827\n",
      "Honduras with their gdp 1414.072488\n",
      "Hungary with their gdp 5745.981529\n",
      "India with their gdp 837.7464011\n",
      "Indonesia with their gdp 1206.991065\n",
      "Ireland with their gdp 27715.52837\n",
      "Italy with their gdp 18937.24998\n",
      "Japan with their gdp 39578.07441\n",
      "Kenya with their gdp 478.2194906\n",
      "South Korea with their gdp 16684.21278\n",
      "Liberia with their gdp 279.2204061\n",
      "Malaysia with their gdp 5345.213415\n",
      "Mexico with their gdp 6288.25324\n",
      "Morocco with their gdp 1908.304416\n",
      "Nepal with their gdp 274.8728621\n",
      "New Zealand with their gdp 14646.42094\n",
      "Norway with their gdp 40034.85063\n",
      "Pakistan with their gdp 672.1547506\n",
      "Peru with their gdp 3359.517402\n",
      "Qatar with their gdp 36152.66676\n",
      "Russia with their gdp 3054.727742\n",
      "Singapore with their gdp 33529.83052\n",
      "South Africa with their gdp 3825.093781\n",
      "Spain with their gdp 15428.32098\n",
      "Sweden with their gdp 33630.24604\n",
      "Switzerland with their gdp 39170.41371\n",
      "Thailand with their gdp 2699.123242\n",
      "United Arab Emirates with their gdp 21058.43643\n",
      "United Kingdom with their gdp 28272.40661\n",
      "United States with their gdp 37691.02733\n",
      "Uruguay with their gdp 9581.05659\n",
      "Venezuela with their gdp 5671.912202\n",
      "Vietnam with their gdp 757.4009286\n",
      "Zimbabwe with their gdp 347.7456605\n"
     ]
    }
   ],
   "source": [
    "#Use a for loop to print the required list\n",
    "for i in range(len(Countries)):\n",
    "    country = Countries[i]\n",
    "    gdp = gdp_per_capita[i]\n",
    "    print('{} with their gdp {}'.format(country,gdp))"
   ]
  },
  {
   "cell_type": "markdown",
   "metadata": {
    "collapsed": false
   },
   "source": [
    "#### 6: Print the following:\n",
    "1. Highest GPD value\n",
    "2. Lowest GDP value\n",
    "3. Mean GDP value\n",
    "4. Standardized GDP value\n",
    "5. Sum of all the GDPs"
   ]
  },
  {
   "cell_type": "code",
   "execution_count": 49,
   "metadata": {
    "collapsed": true
   },
   "outputs": [
    {
     "name": "stdout",
     "output_type": "stream",
     "text": [
      "40034.85063\n",
      "229.6769525\n",
      "11289.409271639683\n",
      "12743.828910617945\n",
      "711232.7841133\n"
     ]
    }
   ],
   "source": [
    "print(gdp_per_capita.max())\n",
    "print(gdp_per_capita.min())\n",
    "print(gdp_per_capita.mean())\n",
    "print(gdp_per_capita.std())\n",
    "print(gdp_per_capita.sum())"
   ]
  }
 ],
 "metadata": {
  "kernelspec": {
   "display_name": "Python 3",
   "language": "python",
   "name": "python3"
  },
  "language_info": {
   "codemirror_mode": {
    "name": "ipython",
    "version": 3
   },
   "file_extension": ".py",
   "mimetype": "text/x-python",
   "name": "python",
   "nbconvert_exporter": "python",
   "pygments_lexer": "ipython3",
   "version": "3.5.1"
  }
 },
 "nbformat": 4,
 "nbformat_minor": 0
}
